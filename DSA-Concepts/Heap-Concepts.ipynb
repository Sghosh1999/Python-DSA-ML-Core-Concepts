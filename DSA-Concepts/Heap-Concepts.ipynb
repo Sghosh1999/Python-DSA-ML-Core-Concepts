{
 "cells": [
  {
   "cell_type": "markdown",
   "metadata": {},
   "source": [
    "```markdown\n",
    "## Tutorial: Using `heapq` in Python\n",
    "\n",
    "The `heapq` module in Python provides an implementation of the heap queue algorithm, also known as the priority queue algorithm. Here's a tutorial on how to use it:\n",
    "\n",
    "### Importing the `heapq` Module\n",
    "\n",
    "First, you need to import the `heapq` module:\n",
    "\n",
    "```python\n",
    "import heapq\n",
    "```\n",
    "\n",
    "### Creating a Heap\n",
    "\n",
    "You can create a heap from a list of elements using the `heapify` function:\n",
    "\n",
    "```python\n",
    "heap = [3, 1, 4, 1, 5, 9, 2, 6, 5, 3, 5]\n",
    "heapq.heapify(heap)\n",
    "print(heap)  # Output will be a heapified list\n",
    "```\n",
    "\n",
    "### Adding Elements to the Heap\n",
    "\n",
    "Use the `heappush` function to add an element to the heap:\n",
    "\n",
    "```python\n",
    "heapq.heappush(heap, 7)\n",
    "print(heap)  # Output will include the new element in the heap\n",
    "```\n",
    "\n",
    "### Removing the Smallest Element\n",
    "\n",
    "Use the `heappop` function to remove and return the smallest element from the heap:\n",
    "\n",
    "```python\n",
    "smallest = heapq.heappop(heap)\n",
    "print(smallest)  # Output will be the smallest element\n",
    "print(heap)  # Output will be the heap after removing the smallest element\n",
    "```\n",
    "\n",
    "### Pushing and Popping in One Operation\n",
    "\n",
    "Use the `heappushpop` function to push a new element and then pop the smallest element:\n",
    "\n",
    "```python\n",
    "result = heapq.heappushpop(heap, 8)\n",
    "print(result)  # Output will be the smallest element\n",
    "print(heap)  # Output will be the heap after the operation\n",
    "```\n",
    "\n",
    "### Replacing the Smallest Element\n",
    "\n",
    "Use the `heapreplace` function to pop the smallest element and then push a new element:\n",
    "\n",
    "```python\n",
    "result = heapq.heapreplace(heap, 10)\n",
    "print(result)  # Output will be the smallest element\n",
    "print(heap)  # Output will be the heap after the operation\n",
    "```\n",
    "\n",
    "### Finding the n Largest Elements\n",
    "\n",
    "Use the `nlargest` function to find the n largest elements in the heap:\n",
    "\n",
    "```python\n",
    "largest_elements = heapq.nlargest(3, heap)\n",
    "print(largest_elements)  # Output will be the 3 largest elements\n",
    "```\n",
    "\n",
    "### Finding the n Smallest Elements\n",
    "\n",
    "Use the `nsmallest` function to find the n smallest elements in the heap:\n",
    "\n",
    "```python\n",
    "smallest_elements = heapq.nsmallest(3, heap)\n",
    "print(smallest_elements)  # Output will be the 3 smallest elements\n",
    "```\n",
    "\n",
    "### Time Complexities\n",
    "\n",
    "- **Heapify:** O(n)\n",
    "- **heappush:** O(log n)\n",
    "- **heappop:** O(log n)\n",
    "- **heappushpop:** O(log n)\n",
    "- **heapreplace:** O(log n)\n",
    "- **nlargest:** O(n log k)\n",
    "- **nsmallest:** O(n log k)\n",
    "```"
   ]
  },
  {
   "cell_type": "code",
   "execution_count": 2,
   "metadata": {
    "vscode": {
     "languageId": "markdown"
    }
   },
   "outputs": [],
   "source": [
    "import heapq"
   ]
  },
  {
   "cell_type": "code",
   "execution_count": 3,
   "metadata": {},
   "outputs": [
    {
     "name": "stdout",
     "output_type": "stream",
     "text": [
      "Heap: [1, 3, 9, 7, 5]\n"
     ]
    }
   ],
   "source": [
    "#Creating a Heap\n",
    "data = [5, 7, 9, 1, 3]\n",
    "heapq.heapify(data)\n",
    "print(\"Heap:\", data)"
   ]
  },
  {
   "cell_type": "code",
   "execution_count": 4,
   "metadata": {},
   "outputs": [
    {
     "name": "stdout",
     "output_type": "stream",
     "text": [
      "Heap after push: [1, 3, 4, 7, 5, 9]\n"
     ]
    }
   ],
   "source": [
    "#3. Adding Elements to the Heap\n",
    "heapq.heappush(data, 4)\n",
    "print(\"Heap after push:\", data)"
   ]
  },
  {
   "cell_type": "code",
   "execution_count": 5,
   "metadata": {},
   "outputs": [
    {
     "name": "stdout",
     "output_type": "stream",
     "text": [
      "Smallest element: 1\n",
      "Heap after pop: [3, 5, 4, 7, 9]\n"
     ]
    }
   ],
   "source": [
    "#Removing the Smallest Element\n",
    "smallest = heapq.heappop(data)\n",
    "print(\"Smallest element:\", smallest)\n",
    "print(\"Heap after pop:\", data)"
   ]
  },
  {
   "cell_type": "code",
   "execution_count": 6,
   "metadata": {},
   "outputs": [
    {
     "name": "stdout",
     "output_type": "stream",
     "text": [
      "Result of pushpop: 2\n",
      "Heap after pushpop: [3, 5, 4, 7, 9]\n"
     ]
    }
   ],
   "source": [
    "#5. Pushing and Popping in One Operation\n",
    "#Use heappushpop to push a new element and then pop the smallest element.\n",
    "result = heapq.heappushpop(data, 2)\n",
    "print(\"Result of pushpop:\", result)\n",
    "print(\"Heap after pushpop:\", data)"
   ]
  },
  {
   "cell_type": "code",
   "execution_count": 7,
   "metadata": {},
   "outputs": [
    {
     "name": "stdout",
     "output_type": "stream",
     "text": [
      "Result of replace: 3\n",
      "Heap after replace: [4, 5, 6, 7, 9]\n"
     ]
    }
   ],
   "source": [
    "#6. Replacing the Smallest Element\n",
    "result = heapq.heapreplace(data, 6)\n",
    "print(\"Result of replace:\", result)\n",
    "print(\"Heap after replace:\", data)"
   ]
  },
  {
   "cell_type": "code",
   "execution_count": 8,
   "metadata": {},
   "outputs": [
    {
     "name": "stdout",
     "output_type": "stream",
     "text": [
      "3 largest elements: [9, 7, 6]\n"
     ]
    }
   ],
   "source": [
    "largest = heapq.nlargest(3, data)\n",
    "print(\"3 largest elements:\", largest)"
   ]
  },
  {
   "cell_type": "code",
   "execution_count": 9,
   "metadata": {},
   "outputs": [
    {
     "name": "stdout",
     "output_type": "stream",
     "text": [
      "3 smallest elements: [4, 5, 6]\n"
     ]
    }
   ],
   "source": [
    "smallest = heapq.nsmallest(3, data)\n",
    "print(\"3 smallest elements:\", smallest)"
   ]
  },
  {
   "cell_type": "code",
   "execution_count": null,
   "metadata": {},
   "outputs": [],
   "source": []
  }
 ],
 "metadata": {
  "kernelspec": {
   "display_name": "base",
   "language": "python",
   "name": "python3"
  },
  "language_info": {
   "codemirror_mode": {
    "name": "ipython",
    "version": 3
   },
   "file_extension": ".py",
   "mimetype": "text/x-python",
   "name": "python",
   "nbconvert_exporter": "python",
   "pygments_lexer": "ipython3",
   "version": "3.10.14"
  }
 },
 "nbformat": 4,
 "nbformat_minor": 2
}
